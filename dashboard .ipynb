{
 "cells": [
  {
   "cell_type": "code",
   "execution_count": 1,
   "id": "f37ca862",
   "metadata": {},
   "outputs": [
    {
     "name": "stderr",
     "output_type": "stream",
     "text": [
      "C:\\Users\\w10\\AppData\\Local\\Temp\\ipykernel_4284\\1855361594.py:3: UserWarning: \n",
      "The dash_html_components package is deprecated. Please replace\n",
      "`import dash_html_components as html` with `from dash import html`\n",
      "  import dash_html_components as html\n",
      "C:\\Users\\w10\\AppData\\Local\\Temp\\ipykernel_4284\\1855361594.py:4: UserWarning: \n",
      "The dash_core_components package is deprecated. Please replace\n",
      "`import dash_core_components as dcc` with `from dash import dcc`\n",
      "  import dash_core_components as dcc\n"
     ]
    }
   ],
   "source": [
    "import pandas as pd\n",
    "import dash\n",
    "import dash_html_components as html\n",
    "import dash_core_components as dcc\n",
    "from dash.dependencies import Input, Output\n",
    "import plotly.express as px"
   ]
  },
  {
   "cell_type": "code",
   "execution_count": 2,
   "id": "99b231c0",
   "metadata": {},
   "outputs": [],
   "source": [
    "spacex_df= pd.read_csv(\"https://cf-courses-data.s3.us.cloud-object-storage.appdomain.cloud/IBM-DS0321EN-SkillsNetwork/datasets/spacex_launch_dash.csv\")"
   ]
  },
  {
   "cell_type": "code",
   "execution_count": 3,
   "id": "09abf62b",
   "metadata": {},
   "outputs": [
    {
     "data": {
      "text/html": [
       "<div>\n",
       "<style scoped>\n",
       "    .dataframe tbody tr th:only-of-type {\n",
       "        vertical-align: middle;\n",
       "    }\n",
       "\n",
       "    .dataframe tbody tr th {\n",
       "        vertical-align: top;\n",
       "    }\n",
       "\n",
       "    .dataframe thead th {\n",
       "        text-align: right;\n",
       "    }\n",
       "</style>\n",
       "<table border=\"1\" class=\"dataframe\">\n",
       "  <thead>\n",
       "    <tr style=\"text-align: right;\">\n",
       "      <th></th>\n",
       "      <th>Unnamed: 0</th>\n",
       "      <th>Flight Number</th>\n",
       "      <th>Launch Site</th>\n",
       "      <th>class</th>\n",
       "      <th>Payload Mass (kg)</th>\n",
       "      <th>Booster Version</th>\n",
       "      <th>Booster Version Category</th>\n",
       "    </tr>\n",
       "  </thead>\n",
       "  <tbody>\n",
       "    <tr>\n",
       "      <th>0</th>\n",
       "      <td>0</td>\n",
       "      <td>1</td>\n",
       "      <td>CCAFS LC-40</td>\n",
       "      <td>0</td>\n",
       "      <td>0.0</td>\n",
       "      <td>F9 v1.0  B0003</td>\n",
       "      <td>v1.0</td>\n",
       "    </tr>\n",
       "    <tr>\n",
       "      <th>1</th>\n",
       "      <td>1</td>\n",
       "      <td>2</td>\n",
       "      <td>CCAFS LC-40</td>\n",
       "      <td>0</td>\n",
       "      <td>0.0</td>\n",
       "      <td>F9 v1.0  B0004</td>\n",
       "      <td>v1.0</td>\n",
       "    </tr>\n",
       "    <tr>\n",
       "      <th>2</th>\n",
       "      <td>2</td>\n",
       "      <td>3</td>\n",
       "      <td>CCAFS LC-40</td>\n",
       "      <td>0</td>\n",
       "      <td>525.0</td>\n",
       "      <td>F9 v1.0  B0005</td>\n",
       "      <td>v1.0</td>\n",
       "    </tr>\n",
       "  </tbody>\n",
       "</table>\n",
       "</div>"
      ],
      "text/plain": [
       "   Unnamed: 0  Flight Number  Launch Site  class  Payload Mass (kg)  \\\n",
       "0           0              1  CCAFS LC-40      0                0.0   \n",
       "1           1              2  CCAFS LC-40      0                0.0   \n",
       "2           2              3  CCAFS LC-40      0              525.0   \n",
       "\n",
       "  Booster Version Booster Version Category  \n",
       "0  F9 v1.0  B0003                     v1.0  \n",
       "1  F9 v1.0  B0004                     v1.0  \n",
       "2  F9 v1.0  B0005                     v1.0  "
      ]
     },
     "execution_count": 3,
     "metadata": {},
     "output_type": "execute_result"
    }
   ],
   "source": [
    "spacex_df.head(3)"
   ]
  },
  {
   "cell_type": "code",
   "execution_count": 4,
   "id": "0f7d10a2",
   "metadata": {},
   "outputs": [],
   "source": [
    "max_payload = spacex_df['Payload Mass (kg)'].max()\n",
    "min_payload = spacex_df['Payload Mass (kg)'].min()"
   ]
  },
  {
   "cell_type": "code",
   "execution_count": 5,
   "id": "35a5eff2",
   "metadata": {},
   "outputs": [],
   "source": [
    "# Calculate other useful data.\n",
    "payload_mark_values = range(0, 11000, 1000)\n",
    "payload_mark_dict = dict(zip(payload_mark_values, payload_mark_values))\n",
    "\n",
    "launch_sites = spacex_df['Launch Site'].unique().tolist()\n",
    "launch_site_options = [{'label': 'All Sites','value': 'ALL'}, *[{'label': site,'value': site} for site in launch_sites]]"
   ]
  },
  {
   "cell_type": "code",
   "execution_count": 6,
   "id": "d7c103fc",
   "metadata": {},
   "outputs": [],
   "source": [
    "# Create a dash application\n",
    "app = dash.Dash(__name__)"
   ]
  },
  {
   "cell_type": "code",
   "execution_count": 7,
   "id": "0ea7e777",
   "metadata": {},
   "outputs": [],
   "source": [
    "# Create an app layout\n",
    "app.layout = html.Div(\n",
    "    children=[\n",
    "        html.H1(\n",
    "            'SpaceX Launch Records Dashboard',\n",
    "            style={\n",
    "                'textAlign': 'center',\n",
    "                'color': '#503D36',\n",
    "                'font-size': 40,\n",
    "            }\n",
    "        ),\n",
    "\n",
    "        # TASK 1: Add a dropdown list to enable Launch Site selection\n",
    "        # The default select value is for ALL sites\n",
    "        # dcc.Dropdown(id='site-dropdown',...)\n",
    "        dcc.Dropdown(\n",
    "            id='site-dropdown',\n",
    "            options=launch_site_options,\n",
    "            value='ALL',\n",
    "            placeholder=\"Select a launch site here\",\n",
    "            searchable=True\n",
    "        ),\n",
    "        html.Br(),\n",
    "\n",
    "        # TASK 2: Add a pie chart to show the total successful launches count for all sites\n",
    "        # If a specific launch site was selected, show the Success vs. Failed counts for the site\n",
    "        html.Div(\n",
    "            dcc.Graph(\n",
    "                id='success-pie-chart'\n",
    "            )\n",
    "        ),\n",
    "        html.Br(),\n",
    "\n",
    "        # TASK 3: Add a slider to select payload range\n",
    "        html.P(\n",
    "            \"Payload range (Kg):\"\n",
    "        ),\n",
    "        dcc.RangeSlider(\n",
    "            id='payload-slider',\n",
    "            min=0,\n",
    "            max=10000,\n",
    "            step=1000,\n",
    "            value=[0,10000],\n",
    "            marks=payload_mark_dict\n",
    "        ),\n",
    "\n",
    "        # TASK 4: Add a scatter chart to show the correlation between payload and launch success\n",
    "        html.Div(\n",
    "            dcc.Graph(\n",
    "                id='success-payload-scatter-chart'\n",
    "            )\n",
    "        ),\n",
    "    ]\n",
    ")"
   ]
  },
  {
   "cell_type": "code",
   "execution_count": 8,
   "id": "821380d8",
   "metadata": {},
   "outputs": [],
   "source": [
    "# TASK 2:\n",
    "# Add a callback function for `site-dropdown` as input, `success-pie-chart` as output\n",
    "# Function decorator to specify function input and output\n",
    "@app.callback(\n",
    "    Output(\n",
    "        component_id='success-pie-chart',\n",
    "        component_property='figure'\n",
    "    ),\n",
    "    Input(\n",
    "        component_id='site-dropdown',\n",
    "        component_property='value'\n",
    "    )\n",
    ")\n",
    "def get_pie_chart(selected_site):\n",
    "    if selected_site == 'ALL':\n",
    "        data = spacex_df[spacex_df['class'] == 1]\n",
    "        names = 'Launch Site'\n",
    "        title='Total successful launches by site'\n",
    "    else:\n",
    "        data = spacex_df[spacex_df['Launch Site'] == selected_site]\n",
    "        names = 'class'\n",
    "        title=f'Total succesful launches for site {selected_site}'\n",
    "    return px.pie(data, names=names, title=title)"
   ]
  },
  {
   "cell_type": "code",
   "execution_count": 9,
   "id": "5e35aa29",
   "metadata": {},
   "outputs": [],
   "source": [
    "# TASK 4:\n",
    "# Add a callback function for `site-dropdown` and `payload-slider` as inputs, `success-payload-scatter-chart` as output\n",
    "@app.callback(\n",
    "    Output(\n",
    "        component_id='success-payload-scatter-chart',\n",
    "        component_property='figure'\n",
    "    ),\n",
    "    [\n",
    "        Input(\n",
    "            component_id='site-dropdown',\n",
    "            component_property='value'\n",
    "        ),\n",
    "        Input(\n",
    "            component_id=\"payload-slider\",\n",
    "            component_property=\"value\"\n",
    "        )\n",
    "    ]\n",
    ")\n",
    "def get_scatter_chart(selected_site, selected_payload_range):\n",
    "    low, high = selected_payload_range\n",
    "    payload_mask = (spacex_df['Payload Mass (kg)'] > low) & (spacex_df['Payload Mass (kg)'] < high)\n",
    "    if selected_site == 'ALL':\n",
    "        filtered_df = spacex_df[payload_mask]\n",
    "    else:\n",
    "        filtered_df = spacex_df[payload_mask]\n",
    "        filtered_df = filtered_df.loc[filtered_df['Launch Site'] == selected_site]\n",
    "    return px.scatter(\n",
    "            filtered_df,\n",
    "            x='Payload Mass (kg)',\n",
    "            y='class', \n",
    "            color='Booster Version',\n",
    "            hover_data=['Payload Mass (kg)']\n",
    "        )"
   ]
  },
  {
   "cell_type": "code",
   "execution_count": null,
   "id": "b95f3f73",
   "metadata": {},
   "outputs": [
    {
     "name": "stdout",
     "output_type": "stream",
     "text": [
      "Dash is running on http://127.0.0.1:8050/\n",
      "\n",
      " * Serving Flask app '__main__'\n",
      " * Debug mode: off\n"
     ]
    }
   ],
   "source": [
    "# Run the app\n",
    "# if __name__ == '__main__': # If file, but running from notebook, here.\n",
    "app.run_server(dev_tools_silence_routes_logging=True)"
   ]
  },
  {
   "cell_type": "code",
   "execution_count": null,
   "id": "9a04854f",
   "metadata": {},
   "outputs": [],
   "source": []
  },
  {
   "cell_type": "code",
   "execution_count": null,
   "id": "1524b8bd",
   "metadata": {},
   "outputs": [],
   "source": []
  },
  {
   "cell_type": "code",
   "execution_count": null,
   "id": "47486bef",
   "metadata": {},
   "outputs": [],
   "source": []
  },
  {
   "cell_type": "code",
   "execution_count": null,
   "id": "f56ea23b",
   "metadata": {},
   "outputs": [],
   "source": []
  },
  {
   "cell_type": "code",
   "execution_count": null,
   "id": "5e31a75d",
   "metadata": {},
   "outputs": [],
   "source": []
  },
  {
   "cell_type": "code",
   "execution_count": null,
   "id": "ef1438c9",
   "metadata": {},
   "outputs": [],
   "source": []
  },
  {
   "cell_type": "code",
   "execution_count": null,
   "id": "d5e0b3d4",
   "metadata": {},
   "outputs": [],
   "source": []
  },
  {
   "cell_type": "code",
   "execution_count": null,
   "id": "a28ab8da",
   "metadata": {},
   "outputs": [],
   "source": []
  },
  {
   "cell_type": "code",
   "execution_count": null,
   "id": "0e85fc40",
   "metadata": {},
   "outputs": [],
   "source": []
  }
 ],
 "metadata": {
  "kernelspec": {
   "display_name": "Python 3 (ipykernel)",
   "language": "python",
   "name": "python3"
  },
  "language_info": {
   "codemirror_mode": {
    "name": "ipython",
    "version": 3
   },
   "file_extension": ".py",
   "mimetype": "text/x-python",
   "name": "python",
   "nbconvert_exporter": "python",
   "pygments_lexer": "ipython3",
   "version": "3.9.16"
  }
 },
 "nbformat": 4,
 "nbformat_minor": 5
}
